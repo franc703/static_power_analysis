{
 "cells": [
  {
   "cell_type": "code",
   "execution_count": 1,
   "metadata": {},
   "outputs": [],
   "source": [
    "import statsmodels.stats.power as smp"
   ]
  },
  {
   "cell_type": "code",
   "execution_count": 2,
   "metadata": {},
   "outputs": [
    {
     "name": "stdout",
     "output_type": "stream",
     "text": [
      "The required sample size is: 64\n"
     ]
    }
   ],
   "source": [
    "# Define parameters\n",
    "effect_size = 0.5  # Example value\n",
    "alpha = 0.05  # Example value\n",
    "power = 0.8  # Example value\n",
    "\n",
    "# Calculate sample size\n",
    "sample_size = smp.TTestIndPower().solve_power(effect_size, power=power, alpha=alpha)\n",
    "\n",
    "print(f\"The required sample size is: {round(sample_size)}\")"
   ]
  },
  {
   "cell_type": "code",
   "execution_count": 3,
   "metadata": {},
   "outputs": [
    {
     "name": "stdout",
     "output_type": "stream",
     "text": [
      "The achieved power is: 0.9404271933839895\n"
     ]
    }
   ],
   "source": [
    "# Define parameters\n",
    "effect_size = 0.5  # Example value\n",
    "alpha = 0.05  # Example value\n",
    "sample_size = 100  # Example value\n",
    "\n",
    "# Calculate power\n",
    "power = smp.TTestIndPower().solve_power(effect_size, nobs1=sample_size, alpha=alpha)\n",
    "\n",
    "print(f\"The achieved power is: {power}\")"
   ]
  },
  {
   "cell_type": "code",
   "execution_count": null,
   "metadata": {},
   "outputs": [],
   "source": []
  }
 ],
 "metadata": {
  "kernelspec": {
   "display_name": "Python 3",
   "language": "python",
   "name": "python3"
  },
  "language_info": {
   "codemirror_mode": {
    "name": "ipython",
    "version": 3
   },
   "file_extension": ".py",
   "mimetype": "text/x-python",
   "name": "python",
   "nbconvert_exporter": "python",
   "pygments_lexer": "ipython3",
   "version": "3.9.8"
  },
  "orig_nbformat": 4
 },
 "nbformat": 4,
 "nbformat_minor": 2
}
